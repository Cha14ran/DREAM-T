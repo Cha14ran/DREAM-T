{
  "nbformat": 4,
  "nbformat_minor": 0,
  "metadata": {
    "colab": {
      "name": "p-values",
      "provenance": []
    },
    "kernelspec": {
      "name": "python3",
      "display_name": "Python 3"
    }
  },
  "cells": [
    {
      "cell_type": "markdown",
      "metadata": {
        "id": "6J0AMB0risuO",
        "colab_type": "text"
      },
      "source": [
        "# Sentiment Analysis **3-class**"
      ]
    },
    {
      "cell_type": "code",
      "metadata": {
        "id": "XKM1PnP7XIj-",
        "colab_type": "code",
        "outputId": "ac291f3c-8bbf-437d-cba4-a464f7fc0666",
        "colab": {
          "base_uri": "https://localhost:8080/",
          "height": 610
        }
      },
      "source": [
        "import pandas as pd\n",
        "import matplotlib.pyplot as plt\n",
        "import statsmodels.api as sm\n",
        "from statsmodels.formula.api import ols\n",
        "from statsmodels.stats.multicomp import pairwise_tukeyhsd\n",
        "\n",
        "\n",
        "data11={'LEXICON_BASED':[57,51,54],'BOW':[54,54,49],'TF-IDF':[55,55,54],'Skip-Thought':[58,57,57],'Word2vec':[59,62,61],'GloVe':[58,61,61],'FastText':[63,65,63],'Meta-Embeddings':[61,65,63],'BERT':[67,67,67],'ELMo':[63,64,63]}\n",
        "df11=pd.DataFrame(data11)\n",
        "df11_melt=pd.melt(df11.reset_index(),id_vars=['index'],value_vars=['LEXICON_BASED','BOW','TF-IDF','Skip-Thought','Word2vec','GloVe','FastText','Meta-Embeddings','BERT','ELMo'])\n",
        "df11_melt.columns=['index','embeddings','F1_SCORE']\n",
        "\n",
        "\n",
        "print(df11_melt)\n",
        "\n",
        "model11=ols('F1_SCORE ~ embeddings',data=df11_melt).fit()\n"
      ],
      "execution_count": 0,
      "outputs": [
        {
          "output_type": "stream",
          "text": [
            "/usr/local/lib/python3.6/dist-packages/statsmodels/tools/_testing.py:19: FutureWarning: pandas.util.testing is deprecated. Use the functions in the public API at pandas.testing instead.\n",
            "  import pandas.util.testing as tm\n"
          ],
          "name": "stderr"
        },
        {
          "output_type": "stream",
          "text": [
            "    index       embeddings  F1_SCORE\n",
            "0       0    LEXICON_BASED        57\n",
            "1       1    LEXICON_BASED        51\n",
            "2       2    LEXICON_BASED        54\n",
            "3       0              BOW        54\n",
            "4       1              BOW        54\n",
            "5       2              BOW        49\n",
            "6       0           TF-IDF        55\n",
            "7       1           TF-IDF        55\n",
            "8       2           TF-IDF        54\n",
            "9       0     Skip-Thought        58\n",
            "10      1     Skip-Thought        57\n",
            "11      2     Skip-Thought        57\n",
            "12      0         Word2vec        59\n",
            "13      1         Word2vec        62\n",
            "14      2         Word2vec        61\n",
            "15      0            GloVe        58\n",
            "16      1            GloVe        61\n",
            "17      2            GloVe        61\n",
            "18      0         FastText        63\n",
            "19      1         FastText        65\n",
            "20      2         FastText        63\n",
            "21      0  Meta-Embeddings        61\n",
            "22      1  Meta-Embeddings        65\n",
            "23      2  Meta-Embeddings        63\n",
            "24      0             BERT        67\n",
            "25      1             BERT        67\n",
            "26      2             BERT        67\n",
            "27      0             ELMo        63\n",
            "28      1             ELMo        64\n",
            "29      2             ELMo        63\n"
          ],
          "name": "stdout"
        }
      ]
    },
    {
      "cell_type": "markdown",
      "metadata": {
        "id": "ifcExKGqjCKo",
        "colab_type": "text"
      },
      "source": [
        "## Checking Anova Assumptions were satisfied or not\n",
        "\n"
      ]
    },
    {
      "cell_type": "markdown",
      "metadata": {
        "id": "5wbcJ2oCyWVF",
        "colab_type": "text"
      },
      "source": [
        "## **1)Normality**\n",
        "### Shapiro-Wilk Test \n",
        "\n",
        "#### **Null Hypothesis**  :   **Data is drawn from Normal Distribution**"
      ]
    },
    {
      "cell_type": "code",
      "metadata": {
        "id": "dZqiyMUHjGWK",
        "colab_type": "code",
        "outputId": "bebe4b4d-044c-4ef4-be76-a272bef3f22b",
        "colab": {
          "base_uri": "https://localhost:8080/",
          "height": 52
        }
      },
      "source": [
        "import scipy.stats as stats\n",
        "w, pvalue = stats.shapiro(model11.resid)\n",
        "print('Shapiro Test')\n",
        "print(w, pvalue)\n"
      ],
      "execution_count": 0,
      "outputs": [
        {
          "output_type": "stream",
          "text": [
            "Shapiro Test\n",
            "0.9641076922416687 0.39264270663261414\n"
          ],
          "name": "stdout"
        }
      ]
    },
    {
      "cell_type": "markdown",
      "metadata": {
        "id": "1I6x0BgAj5k2",
        "colab_type": "text"
      },
      "source": [
        "### Since p-value>0.05,we fail to reject NULL Hypothesis and data is drawn from Normal distribution.\n"
      ]
    },
    {
      "cell_type": "markdown",
      "metadata": {
        "id": "QF5qacSHjPVY",
        "colab_type": "text"
      },
      "source": [
        "## **2)Homogenity of Variances**\n",
        "### Bartlett's Test\n",
        "\n",
        "#### **Null Hypothesis** : **Samples from populations have equal variances.**"
      ]
    },
    {
      "cell_type": "code",
      "metadata": {
        "id": "cq94DUwGjSID",
        "colab_type": "code",
        "outputId": "64ac25a6-477f-4adc-f011-2b50d91b1330",
        "colab": {
          "base_uri": "https://localhost:8080/",
          "height": 52
        }
      },
      "source": [
        "import scipy.stats as stats\n",
        "# w,pvalue=stats.bartlett(df11['LEXICON_BASED'],df11['BOW'],df11['TF-IDF'],df11['Skip-Thought'],df11['Word2vec'],df11['GloVe'],df11['FastText'],df11['Meta-Embeddings'],df11['BERT'],df11['ELMo'])\n",
        "# print('Bartlett Test')\n",
        "# print(w,pvalue)\n",
        "\n",
        "print(\"Levene Test\")\n",
        "w,pvalue=stats.levene(df11['LEXICON_BASED'],df11['BOW'],df11['TF-IDF'],df11['Skip-Thought'],df11['Word2vec'],df11['GloVe'],df11['FastText'],df11['Meta-Embeddings'],df11['BERT'],df11['ELMo'])\n",
        "print(w,pvalue)\n",
        "\n"
      ],
      "execution_count": 0,
      "outputs": [
        {
          "output_type": "stream",
          "text": [
            "Levene Test\n",
            "0.6705653021442497 0.7257543817033438\n"
          ],
          "name": "stdout"
        }
      ]
    },
    {
      "cell_type": "markdown",
      "metadata": {
        "id": "cKywaOdUkGLS",
        "colab_type": "text"
      },
      "source": [
        "### Since p-value>0.05,we fail to reject NULL Hypothesis and conclude that embeddings have equal variances.\n",
        "\n"
      ]
    },
    {
      "cell_type": "markdown",
      "metadata": {
        "id": "kAu7qjZ4jeYN",
        "colab_type": "text"
      },
      "source": [
        "## If assumptions were valid then one-way anova test is conducted"
      ]
    },
    {
      "cell_type": "code",
      "metadata": {
        "id": "wNAfESFljKOE",
        "colab_type": "code",
        "outputId": "3ace9362-8de9-4f52-9b4a-cb86baeff89d",
        "colab": {
          "base_uri": "https://localhost:8080/",
          "height": 86
        }
      },
      "source": [
        "table11=sm.stats.anova_lm(model11)\n",
        "print(\"Anova Table for Sentiment-Analysis 3 class\")\n",
        "print(table11)\n",
        "\n",
        "\n"
      ],
      "execution_count": 0,
      "outputs": [
        {
          "output_type": "stream",
          "text": [
            "Anova Table for Sentiment-Analysis 3 class\n",
            "              df  sum_sq    mean_sq          F        PR(>F)\n",
            "embeddings   9.0   635.2  70.577778  24.337165  6.976054e-09\n",
            "Residual    20.0    58.0   2.900000        NaN           NaN\n"
          ],
          "name": "stdout"
        }
      ]
    },
    {
      "cell_type": "markdown",
      "metadata": {
        "id": "UNzia_ABwdfy",
        "colab_type": "text"
      },
      "source": [
        "### If anova returns a **Statistically Significant result** then post-hoc **Tukey Hsd test** to confirm where the differences occurred between groups.\n",
        "\n",
        "### Since **p-value : 6.97e-09** (p-value>0.01) it means **statistical significant differences** between the groups\n"
      ]
    },
    {
      "cell_type": "code",
      "metadata": {
        "id": "TJtBgcQTxlTK",
        "colab_type": "code",
        "outputId": "b88d690a-8f35-491b-d4d9-96cba80df5fa",
        "colab": {
          "base_uri": "https://localhost:8080/",
          "height": 972
        }
      },
      "source": [
        "print(\"\\n\")\n",
        "print(\"---------------Sentiment Analysis 3-class-----------------\")\n",
        "print(\"\\n\")\n",
        "m_comp=pairwise_tukeyhsd(endog=df11_melt['F1_SCORE'], groups=df11_melt['embeddings'], alpha=0.01)\n",
        "\n",
        "print(m_comp)\n"
      ],
      "execution_count": 0,
      "outputs": [
        {
          "output_type": "stream",
          "text": [
            "\n",
            "\n",
            "---------------Sentiment Analysis 3-class-----------------\n",
            "\n",
            "\n",
            "          Multiple Comparison of Means - Tukey HSD, FWER=0.01          \n",
            "=======================================================================\n",
            "     group1          group2     meandiff p-adj   lower    upper  reject\n",
            "-----------------------------------------------------------------------\n",
            "           BERT             BOW -14.6667  0.001 -20.6508 -8.6825   True\n",
            "           BERT            ELMo  -3.6667 0.2634  -9.6508  2.3175  False\n",
            "           BERT        FastText  -3.3333 0.3782  -9.3175  2.6508  False\n",
            "           BERT           GloVe     -7.0  0.002 -12.9841 -1.0159   True\n",
            "           BERT   LEXICON_BASED    -13.0  0.001 -18.9841 -7.0159   True\n",
            "           BERT Meta-Embeddings     -4.0 0.1765  -9.9841  1.9841  False\n",
            "           BERT    Skip-Thought  -9.6667  0.001 -15.6508 -3.6825   True\n",
            "           BERT          TF-IDF -12.3333  0.001 -18.3175 -6.3492   True\n",
            "           BERT        Word2vec  -6.3333 0.0058 -12.3175 -0.3492   True\n",
            "            BOW            ELMo     11.0  0.001   5.0159 16.9841   True\n",
            "            BOW        FastText  11.3333  0.001   5.3492 17.3175   True\n",
            "            BOW           GloVe   7.6667  0.001   1.6825 13.6508   True\n",
            "            BOW   LEXICON_BASED   1.6667    0.9  -4.3175  7.6508  False\n",
            "            BOW Meta-Embeddings  10.6667  0.001   4.6825 16.6508   True\n",
            "            BOW    Skip-Thought      5.0 0.0447  -0.9841 10.9841  False\n",
            "            BOW          TF-IDF   2.3333 0.7704  -3.6508  8.3175  False\n",
            "            BOW        Word2vec   8.3333  0.001   2.3492 14.3175   True\n",
            "           ELMo        FastText   0.3333    0.9  -5.6508  6.3175  False\n",
            "           ELMo           GloVe  -3.3333 0.3782  -9.3175  2.6508  False\n",
            "           ELMo   LEXICON_BASED  -9.3333  0.001 -15.3175 -3.3492   True\n",
            "           ELMo Meta-Embeddings  -0.3333    0.9  -6.3175  5.6508  False\n",
            "           ELMo    Skip-Thought     -6.0 0.0098 -11.9841 -0.0159   True\n",
            "           ELMo          TF-IDF  -8.6667  0.001 -14.6508 -2.6825   True\n",
            "           ELMo        Word2vec  -2.6667 0.6407  -8.6508  3.3175  False\n",
            "       FastText           GloVe  -3.6667 0.2634  -9.6508  2.3175  False\n",
            "       FastText   LEXICON_BASED  -9.6667  0.001 -15.6508 -3.6825   True\n",
            "       FastText Meta-Embeddings  -0.6667    0.9  -6.6508  5.3175  False\n",
            "       FastText    Skip-Thought  -6.3333 0.0058 -12.3175 -0.3492   True\n",
            "       FastText          TF-IDF     -9.0  0.001 -14.9841 -3.0159   True\n",
            "       FastText        Word2vec     -3.0 0.5111  -8.9841  2.9841  False\n",
            "          GloVe   LEXICON_BASED     -6.0 0.0098 -11.9841 -0.0159   True\n",
            "          GloVe Meta-Embeddings      3.0 0.5111  -2.9841  8.9841  False\n",
            "          GloVe    Skip-Thought  -2.6667 0.6407  -8.6508  3.3175  False\n",
            "          GloVe          TF-IDF  -5.3333 0.0272 -11.3175  0.6508  False\n",
            "          GloVe        Word2vec   0.6667    0.9  -5.3175  6.6508  False\n",
            "  LEXICON_BASED Meta-Embeddings      9.0  0.001   3.0159 14.9841   True\n",
            "  LEXICON_BASED    Skip-Thought   3.3333 0.3782  -2.6508  9.3175  False\n",
            "  LEXICON_BASED          TF-IDF   0.6667    0.9  -5.3175  6.6508  False\n",
            "  LEXICON_BASED        Word2vec   6.6667 0.0034   0.6825 12.6508   True\n",
            "Meta-Embeddings    Skip-Thought  -5.6667 0.0164 -11.6508  0.3175  False\n",
            "Meta-Embeddings          TF-IDF  -8.3333  0.001 -14.3175 -2.3492   True\n",
            "Meta-Embeddings        Word2vec  -2.3333 0.7704  -8.3175  3.6508  False\n",
            "   Skip-Thought          TF-IDF  -2.6667 0.6407  -8.6508  3.3175  False\n",
            "   Skip-Thought        Word2vec   3.3333 0.3782  -2.6508  9.3175  False\n",
            "         TF-IDF        Word2vec      6.0 0.0098   0.0159 11.9841   True\n",
            "-----------------------------------------------------------------------\n"
          ],
          "name": "stdout"
        }
      ]
    },
    {
      "cell_type": "markdown",
      "metadata": {
        "id": "ZrQLnio9zPfV",
        "colab_type": "text"
      },
      "source": [
        "# Sentiment Analysis 2-class\n"
      ]
    },
    {
      "cell_type": "code",
      "metadata": {
        "id": "MyVattrtgv8Y",
        "colab_type": "code",
        "outputId": "1ba91f43-3f17-416b-85a3-a931e4f9bc79",
        "colab": {
          "base_uri": "https://localhost:8080/",
          "height": 605
        }
      },
      "source": [
        "# Two class\n",
        "#only over-sampling\n",
        "\n",
        "data21={'LEXICON_BASED':[72,60,68],'BOW':[75,73,74],'TF-IDF':[74,72,73],'Skip-Thought':[78,79,24],'Word2vec':[83,85,84],'GloVe':[86,87,87],'FastText':[86,85,86],'Meta-Embeddings':[83,86,86],'BERT':[88,88,88],'ELMo':[84,83,84]}\n",
        "df21=pd.DataFrame(data21)\n",
        "df21_melt=pd.melt(df21.reset_index(),id_vars=['index'],value_vars=['LEXICON_BASED','BOW','TF-IDF','Skip-Thought','Word2vec','GloVe','FastText','Meta-Embeddings','BERT','ELMo'])\n",
        "df21_melt.columns=['index','embeddings','F1_SCORE']\n",
        "\n",
        "\n",
        "\n",
        "print(df21_melt)\n",
        "\n",
        "model21=ols('F1_SCORE ~ embeddings',data=df21_melt).fit()\n",
        "\n",
        "\n",
        "import scipy.stats as stats\n",
        "w, pvalue = stats.shapiro(model21.resid)\n",
        "print('Shapiro Test')\n",
        "print(w, pvalue)\n",
        "\n",
        "# import scipy.stats as stats\n",
        "# w,pvalue=stats.bartlett(df21['LEXICON_BASED'],df21['BOW'],df21['TF-IDF'],df21['Skip-Thought'],df21['Word2vec'],df21['GloVe'],df21['FastText'],df21['Meta-Embeddings'],df21['BERT'],df21['ELMo'])\n",
        "# print('Bartlett Test')\n",
        "# print(w,pvalue)\n",
        "\n",
        "print(\"Levene Test\")\n",
        "w,pvalue=stats.levene(df21['LEXICON_BASED'],df21['BOW'],df21['TF-IDF'],df21['Skip-Thought'],df21['Word2vec'],df21['GloVe'],df21['FastText'],df21['Meta-Embeddings'],df21['BERT'],df21['ELMo'])\n",
        "print(w,pvalue)\n",
        "\n",
        "\n"
      ],
      "execution_count": 0,
      "outputs": [
        {
          "output_type": "stream",
          "text": [
            "    index       embeddings  F1_SCORE\n",
            "0       0    LEXICON_BASED        72\n",
            "1       1    LEXICON_BASED        60\n",
            "2       2    LEXICON_BASED        68\n",
            "3       0              BOW        75\n",
            "4       1              BOW        73\n",
            "5       2              BOW        74\n",
            "6       0           TF-IDF        74\n",
            "7       1           TF-IDF        72\n",
            "8       2           TF-IDF        73\n",
            "9       0     Skip-Thought        78\n",
            "10      1     Skip-Thought        79\n",
            "11      2     Skip-Thought        24\n",
            "12      0         Word2vec        83\n",
            "13      1         Word2vec        85\n",
            "14      2         Word2vec        84\n",
            "15      0            GloVe        86\n",
            "16      1            GloVe        87\n",
            "17      2            GloVe        87\n",
            "18      0         FastText        86\n",
            "19      1         FastText        85\n",
            "20      2         FastText        86\n",
            "21      0  Meta-Embeddings        83\n",
            "22      1  Meta-Embeddings        86\n",
            "23      2  Meta-Embeddings        86\n",
            "24      0             BERT        88\n",
            "25      1             BERT        88\n",
            "26      2             BERT        88\n",
            "27      0             ELMo        84\n",
            "28      1             ELMo        83\n",
            "29      2             ELMo        84\n",
            "Shapiro Test\n",
            "0.5581018924713135 2.3335148924275018e-08\n",
            "Levene Test\n",
            "0.9755069491911595 0.4881594271874513\n"
          ],
          "name": "stdout"
        }
      ]
    },
    {
      "cell_type": "code",
      "metadata": {
        "id": "QZ4ytPi5Sosw",
        "colab_type": "code",
        "outputId": "685d0312-9c19-4233-853f-6c8b438e1fac",
        "colab": {
          "base_uri": "https://localhost:8080/",
          "height": 1000
        }
      },
      "source": [
        "table21=sm.stats.anova_lm(model21)\n",
        "print(\"Anova Table for Sentiment-Analysis 2 class\")\n",
        "print(table21)\n",
        "\n",
        "\n",
        "print(\"\\n\")\n",
        "print(\"----------------Sentiment Analysis 2-class---------------\")\n",
        "print(\"\\n\")\n",
        "m_comp=pairwise_tukeyhsd(endog=df21_melt['F1_SCORE'], groups=df21_melt['embeddings'], alpha=0.05)\n",
        "\n",
        "print(m_comp)"
      ],
      "execution_count": 0,
      "outputs": [
        {
          "output_type": "stream",
          "text": [
            "Anova Table for Sentiment-Analysis 2 class\n",
            "              df       sum_sq     mean_sq         F    PR(>F)\n",
            "embeddings   9.0  2482.966667  275.885185  2.666416  0.032496\n",
            "Residual    20.0  2069.333333  103.466667       NaN       NaN\n",
            "\n",
            "\n",
            "----------------Sentiment Analysis 2-class---------------\n",
            "\n",
            "\n",
            "          Multiple Comparison of Means - Tukey HSD, FWER=0.05          \n",
            "=======================================================================\n",
            "     group1          group2     meandiff p-adj   lower    upper  reject\n",
            "-----------------------------------------------------------------------\n",
            "           BERT             BOW    -14.0 0.7663 -43.4098 15.4098  False\n",
            "           BERT            ELMo  -4.3333    0.9 -33.7432 25.0765  False\n",
            "           BERT        FastText  -2.3333    0.9 -31.7432 27.0765  False\n",
            "           BERT           GloVe  -1.3333    0.9 -30.7432 28.0765  False\n",
            "           BERT   LEXICON_BASED -21.3333 0.2932 -50.7432  8.0765  False\n",
            "           BERT Meta-Embeddings     -3.0    0.9 -32.4098 26.4098  False\n",
            "           BERT    Skip-Thought -27.6667 0.0762 -57.0765  1.7432  False\n",
            "           BERT          TF-IDF    -15.0 0.7012 -44.4098 14.4098  False\n",
            "           BERT        Word2vec     -4.0    0.9 -33.4098 25.4098  False\n",
            "            BOW            ELMo   9.6667    0.9 -19.7432 39.0765  False\n",
            "            BOW        FastText  11.6667    0.9 -17.7432 41.0765  False\n",
            "            BOW           GloVe  12.6667 0.8531 -16.7432 42.0765  False\n",
            "            BOW   LEXICON_BASED  -7.3333    0.9 -36.7432 22.0765  False\n",
            "            BOW Meta-Embeddings     11.0    0.9 -18.4098 40.4098  False\n",
            "            BOW    Skip-Thought -13.6667  0.788 -43.0765 15.7432  False\n",
            "            BOW          TF-IDF     -1.0    0.9 -30.4098 28.4098  False\n",
            "            BOW        Word2vec     10.0    0.9 -19.4098 39.4098  False\n",
            "           ELMo        FastText      2.0    0.9 -27.4098 31.4098  False\n",
            "           ELMo           GloVe      3.0    0.9 -26.4098 32.4098  False\n",
            "           ELMo   LEXICON_BASED    -17.0  0.571 -46.4098 12.4098  False\n",
            "           ELMo Meta-Embeddings   1.3333    0.9 -28.0765 30.7432  False\n",
            "           ELMo    Skip-Thought -23.3333 0.1983 -52.7432  6.0765  False\n",
            "           ELMo          TF-IDF -10.6667    0.9 -40.0765 18.7432  False\n",
            "           ELMo        Word2vec   0.3333    0.9 -29.0765 29.7432  False\n",
            "       FastText           GloVe      1.0    0.9 -28.4098 30.4098  False\n",
            "       FastText   LEXICON_BASED    -19.0 0.4392 -48.4098 10.4098  False\n",
            "       FastText Meta-Embeddings  -0.6667    0.9 -30.0765 28.7432  False\n",
            "       FastText    Skip-Thought -25.3333 0.1292 -54.7432  4.0765  False\n",
            "       FastText          TF-IDF -12.6667 0.8531 -42.0765 16.7432  False\n",
            "       FastText        Word2vec  -1.6667    0.9 -31.0765 27.7432  False\n",
            "          GloVe   LEXICON_BASED    -20.0 0.3724 -49.4098  9.4098  False\n",
            "          GloVe Meta-Embeddings  -1.6667    0.9 -31.0765 27.7432  False\n",
            "          GloVe    Skip-Thought -26.3333 0.1035 -55.7432  3.0765  False\n",
            "          GloVe          TF-IDF -13.6667  0.788 -43.0765 15.7432  False\n",
            "          GloVe        Word2vec  -2.6667    0.9 -32.0765 26.7432  False\n",
            "  LEXICON_BASED Meta-Embeddings  18.3333  0.484 -11.0765 47.7432  False\n",
            "  LEXICON_BASED    Skip-Thought  -6.3333    0.9 -35.7432 23.0765  False\n",
            "  LEXICON_BASED          TF-IDF   6.3333    0.9 -23.0765 35.7432  False\n",
            "  LEXICON_BASED        Word2vec  17.3333 0.5492 -12.0765 46.7432  False\n",
            "Meta-Embeddings    Skip-Thought -24.6667 0.1498 -54.0765  4.7432  False\n",
            "Meta-Embeddings          TF-IDF    -12.0 0.8966 -41.4098 17.4098  False\n",
            "Meta-Embeddings        Word2vec     -1.0    0.9 -30.4098 28.4098  False\n",
            "   Skip-Thought          TF-IDF  12.6667 0.8531 -16.7432 42.0765  False\n",
            "   Skip-Thought        Word2vec  23.6667 0.1851  -5.7432 53.0765  False\n",
            "         TF-IDF        Word2vec     11.0    0.9 -18.4098 40.4098  False\n",
            "-----------------------------------------------------------------------\n"
          ],
          "name": "stdout"
        }
      ]
    },
    {
      "cell_type": "markdown",
      "metadata": {
        "id": "LhRT6OgBtfu4",
        "colab_type": "text"
      },
      "source": [
        "## Since Anova Assumptions were not satisified through Shapiro(p-value<0.01) we go for **Kruskal-Wallis H-test**  for checking the **statistical significance** between results\n"
      ]
    },
    {
      "cell_type": "markdown",
      "metadata": {
        "id": "gmA9qVRIrqc-",
        "colab_type": "text"
      },
      "source": [
        "## Kruskal-Wallis H-test\n",
        "### **Null Hypothesis**  : There's no statistical significant difference between the means of three or more groups."
      ]
    },
    {
      "cell_type": "markdown",
      "metadata": {
        "id": "Vy06aAYpcIHO",
        "colab_type": "text"
      },
      "source": [
        "# Emotion Identification 5-class\n"
      ]
    },
    {
      "cell_type": "code",
      "metadata": {
        "id": "GtrVdkkU1WJa",
        "colab_type": "code",
        "outputId": "74c0666a-28c6-41b8-f4b6-6ac3983cde61",
        "colab": {
          "base_uri": "https://localhost:8080/",
          "height": 625
        }
      },
      "source": [
        "\n",
        "data31={'LEXICON_BASED':[30,30,31],'BOW':[32,31,32],'TF-IDF':[32,33,34],\n",
        "        'Skip-Thought':[35,36,36],'Word2vec':[33,39,42],'GloVe':[30,35,40],'FastText':[36,43,44],\n",
        "        'Meta-Embeddings':[34,42,42],'BERT':[33,37,38],'ELMo':[41,44,44]}\n",
        "df31=pd.DataFrame(data31)\n",
        "df31_melt=pd.melt(df31.reset_index(),id_vars=['index'],value_vars=['LEXICON_BASED','BOW','TF-IDF','Skip-Thought','Word2vec','GloVe','FastText','Meta-Embeddings','BERT','ELMo'])\n",
        "df31_melt.columns=['index','embeddings','F1_SCORE']\n",
        "\n",
        "print(df31_melt)\n",
        "\n",
        "model31=ols('F1_SCORE ~ embeddings',data=df31_melt).fit()\n",
        "\n",
        "\n",
        "import scipy.stats as stats\n",
        "w, pvalue = stats.shapiro(model31.resid)\n",
        "print('Shapiro Test')\n",
        "print(w, pvalue)\n",
        "\n",
        "\n",
        "print(\"Levene Test\")\n",
        "w,pvalue=stats.levene(df31['LEXICON_BASED'],df31['BOW'],df31['TF-IDF'],df31['Skip-Thought'],df31['Word2vec'],df31['GloVe'],df31['FastText'],df31['Meta-Embeddings'],df31['BERT'],df31['ELMo'])\n",
        "print(w,pvalue)\n",
        "\n",
        "\n"
      ],
      "execution_count": 0,
      "outputs": [
        {
          "output_type": "stream",
          "text": [
            "    index       embeddings  F1_SCORE\n",
            "0       0    LEXICON_BASED        30\n",
            "1       1    LEXICON_BASED        30\n",
            "2       2    LEXICON_BASED        31\n",
            "3       0              BOW        32\n",
            "4       1              BOW        31\n",
            "5       2              BOW        32\n",
            "6       0           TF-IDF        32\n",
            "7       1           TF-IDF        33\n",
            "8       2           TF-IDF        34\n",
            "9       0     Skip-Thought        35\n",
            "10      1     Skip-Thought        36\n",
            "11      2     Skip-Thought        36\n",
            "12      0         Word2vec        33\n",
            "13      1         Word2vec        39\n",
            "14      2         Word2vec        42\n",
            "15      0            GloVe        30\n",
            "16      1            GloVe        35\n",
            "17      2            GloVe        40\n",
            "18      0         FastText        36\n",
            "19      1         FastText        43\n",
            "20      2         FastText        44\n",
            "21      0  Meta-Embeddings        34\n",
            "22      1  Meta-Embeddings        42\n",
            "23      2  Meta-Embeddings        42\n",
            "24      0             BERT        33\n",
            "25      1             BERT        37\n",
            "26      2             BERT        38\n",
            "27      0             ELMo        41\n",
            "28      1             ELMo        44\n",
            "29      2             ELMo        44\n",
            "Shapiro Test\n",
            "0.9261447787284851 0.03882667422294617\n",
            "Levene Test\n",
            "0.7183183183183185 0.6868875148417066\n"
          ],
          "name": "stdout"
        }
      ]
    },
    {
      "cell_type": "markdown",
      "metadata": {
        "id": "lE02ixwWc3Et",
        "colab_type": "text"
      },
      "source": [
        "## Anova Assumptions were satisfied\n"
      ]
    },
    {
      "cell_type": "code",
      "metadata": {
        "id": "iu6BN-Cl5tb5",
        "colab_type": "code",
        "outputId": "24264c41-8ea2-4cec-bfa6-8c86f2ff03ba",
        "colab": {
          "base_uri": "https://localhost:8080/",
          "height": 1000
        }
      },
      "source": [
        "table31=sm.stats.anova_lm(model31)\n",
        "print(\"Anova Table for Emotion-identification 5 class\")\n",
        "print(table31)\n",
        "\n",
        "print(\"\\n\")\n",
        "print(\"------------------EMOTION IDENTIFICATION 5 CLASS ---------------------\")\n",
        "print(\"\\n\")\n",
        "\n",
        "m_comp=pairwise_tukeyhsd(endog=df31_melt['F1_SCORE'], groups=df31_melt['embeddings'], alpha=0.01)\n",
        "\n",
        "print(m_comp)\n"
      ],
      "execution_count": 0,
      "outputs": [
        {
          "output_type": "stream",
          "text": [
            "Anova Table for Emotion-identification 5 class\n",
            "              df      sum_sq    mean_sq         F    PR(>F)\n",
            "embeddings   9.0  447.633333  49.737037  5.058004  0.001238\n",
            "Residual    20.0  196.666667   9.833333       NaN       NaN\n",
            "\n",
            "\n",
            "------------------EMOTION IDENTIFICATION 5 CLASS ---------------------\n",
            "\n",
            "\n",
            "          Multiple Comparison of Means - Tukey HSD, FWER=0.01          \n",
            "=======================================================================\n",
            "     group1          group2     meandiff p-adj   lower    upper  reject\n",
            "-----------------------------------------------------------------------\n",
            "           BERT             BOW  -4.3333 0.7626 -15.3526  6.6859  False\n",
            "           BERT            ELMo      7.0 0.2252  -4.0193 18.0193  False\n",
            "           BERT        FastText      5.0 0.6218  -6.0193 16.0193  False\n",
            "           BERT           GloVe     -1.0    0.9 -12.0193 10.0193  False\n",
            "           BERT   LEXICON_BASED  -5.6667 0.4808 -16.6859  5.3526  False\n",
            "           BERT Meta-Embeddings   3.3333    0.9  -7.6859 14.3526  False\n",
            "           BERT    Skip-Thought  -0.3333    0.9 -11.3526 10.6859  False\n",
            "           BERT          TF-IDF     -3.0    0.9 -14.0193  8.0193  False\n",
            "           BERT        Word2vec      2.0    0.9  -9.0193 13.0193  False\n",
            "            BOW            ELMo  11.3333 0.0077   0.3141 22.3526   True\n",
            "            BOW        FastText   9.3333 0.0404  -1.6859 20.3526  False\n",
            "            BOW           GloVe   3.3333    0.9  -7.6859 14.3526  False\n",
            "            BOW   LEXICON_BASED  -1.3333    0.9 -12.3526  9.6859  False\n",
            "            BOW Meta-Embeddings   7.6667 0.1433  -3.3526 18.6859  False\n",
            "            BOW    Skip-Thought      4.0 0.8331  -7.0193 15.0193  False\n",
            "            BOW          TF-IDF   1.3333    0.9  -9.6859 12.3526  False\n",
            "            BOW        Word2vec   6.3333  0.338  -4.6859 17.3526  False\n",
            "           ELMo        FastText     -2.0    0.9 -13.0193  9.0193  False\n",
            "           ELMo           GloVe     -8.0 0.1131 -19.0193  3.0193  False\n",
            "           ELMo   LEXICON_BASED -12.6667 0.0025 -23.6859 -1.6474   True\n",
            "           ELMo Meta-Embeddings  -3.6667    0.9 -14.6859  7.3526  False\n",
            "           ELMo    Skip-Thought  -7.3333 0.1804 -18.3526  3.6859  False\n",
            "           ELMo          TF-IDF    -10.0 0.0235 -21.0193  1.0193  False\n",
            "           ELMo        Word2vec     -5.0 0.6218 -16.0193  6.0193  False\n",
            "       FastText           GloVe     -6.0  0.408 -17.0193  5.0193  False\n",
            "       FastText   LEXICON_BASED -10.6667 0.0135 -21.6859  0.3526  False\n",
            "       FastText Meta-Embeddings  -1.6667    0.9 -12.6859  9.3526  False\n",
            "       FastText    Skip-Thought  -5.3333 0.5514 -16.3526  5.6859  False\n",
            "       FastText          TF-IDF     -8.0 0.1131 -19.0193  3.0193  False\n",
            "       FastText        Word2vec     -3.0    0.9 -14.0193  8.0193  False\n",
            "          GloVe   LEXICON_BASED  -4.6667 0.6922 -15.6859  6.3526  False\n",
            "          GloVe Meta-Embeddings   4.3333 0.7626  -6.6859 15.3526  False\n",
            "          GloVe    Skip-Thought   0.6667    0.9 -10.3526 11.6859  False\n",
            "          GloVe          TF-IDF     -2.0    0.9 -13.0193  9.0193  False\n",
            "          GloVe        Word2vec      3.0    0.9  -8.0193 14.0193  False\n",
            "  LEXICON_BASED Meta-Embeddings      9.0 0.0527  -2.0193 20.0193  False\n",
            "  LEXICON_BASED    Skip-Thought   5.3333 0.5514  -5.6859 16.3526  False\n",
            "  LEXICON_BASED          TF-IDF   2.6667    0.9  -8.3526 13.6859  False\n",
            "  LEXICON_BASED        Word2vec   7.6667 0.1433  -3.3526 18.6859  False\n",
            "Meta-Embeddings    Skip-Thought  -3.6667    0.9 -14.6859  7.3526  False\n",
            "Meta-Embeddings          TF-IDF  -6.3333  0.338 -17.3526  4.6859  False\n",
            "Meta-Embeddings        Word2vec  -1.3333    0.9 -12.3526  9.6859  False\n",
            "   Skip-Thought          TF-IDF  -2.6667    0.9 -13.6859  8.3526  False\n",
            "   Skip-Thought        Word2vec   2.3333    0.9  -8.6859 13.3526  False\n",
            "         TF-IDF        Word2vec      5.0 0.6218  -6.0193 16.0193  False\n",
            "-----------------------------------------------------------------------\n"
          ],
          "name": "stdout"
        }
      ]
    },
    {
      "cell_type": "markdown",
      "metadata": {
        "id": "_94CYx2UvtHM",
        "colab_type": "text"
      },
      "source": [
        "## Since it returns a **stastical significant result** based on p-value=0.000181 post-hoc tukey-hsd test is conducted."
      ]
    },
    {
      "cell_type": "markdown",
      "metadata": {
        "id": "1PUINyO27Dk2",
        "colab_type": "text"
      },
      "source": [
        "# Emotion Identification 4-class\n"
      ]
    },
    {
      "cell_type": "code",
      "metadata": {
        "id": "RLzRvFR97DKc",
        "colab_type": "code",
        "outputId": "228114f3-3c2a-4b08-9223-360d4c45b3f4",
        "colab": {
          "base_uri": "https://localhost:8080/",
          "height": 625
        }
      },
      "source": [
        "\n",
        "data41={'LEXICON_BASED':[40,40,40],'BOW':[42,40,42],'TF-IDF':[43,41,43],'Skip-Thought':[52,47,48],\n",
        "        'Word2vec':[52,52,54],'GloVe':[45,51,51],'FastText':[51,55,55],'Meta-Embeddings':[49,54,57],\n",
        "        'BERT':[41,44,44],'ELMo':[57,57,59]}\n",
        "df41=pd.DataFrame(data41)\n",
        "df41_melt=pd.melt(df41.reset_index(),id_vars=['index'],value_vars=['LEXICON_BASED','BOW','TF-IDF','Skip-Thought','Word2vec','GloVe','FastText','Meta-Embeddings','BERT','ELMo'])\n",
        "df41_melt.columns=['index','embeddings','F1_SCORE']\n",
        "\n",
        "print(df41_melt)\n",
        "\n",
        "model41=ols('F1_SCORE ~ embeddings',data=df41_melt).fit()\n",
        "\n",
        "\n",
        "import scipy.stats as stats\n",
        "w, pvalue = stats.shapiro(model41.resid)\n",
        "print('Shapiro Test')\n",
        "print(w, pvalue)\n",
        "\n",
        "\n",
        "\n",
        "print(\"Levene Test\")\n",
        "w,pvalue=stats.levene(df41['LEXICON_BASED'],df41['BOW'],df41['TF-IDF'],df41['Skip-Thought'],df41['Word2vec'],df41['GloVe'],df41['FastText'],df41['Meta-Embeddings'],df41['BERT'],df41['ELMo'])\n",
        "print(w,pvalue)\n",
        "\n"
      ],
      "execution_count": 0,
      "outputs": [
        {
          "output_type": "stream",
          "text": [
            "    index       embeddings  F1_SCORE\n",
            "0       0    LEXICON_BASED        48\n",
            "1       1    LEXICON_BASED        40\n",
            "2       2    LEXICON_BASED        49\n",
            "3       0              BOW        42\n",
            "4       1              BOW        40\n",
            "5       2              BOW        42\n",
            "6       0           TF-IDF        43\n",
            "7       1           TF-IDF        41\n",
            "8       2           TF-IDF        43\n",
            "9       0     Skip-Thought        52\n",
            "10      1     Skip-Thought        47\n",
            "11      2     Skip-Thought        48\n",
            "12      0         Word2vec        52\n",
            "13      1         Word2vec        52\n",
            "14      2         Word2vec        54\n",
            "15      0            GloVe        45\n",
            "16      1            GloVe        51\n",
            "17      2            GloVe        51\n",
            "18      0         FastText        51\n",
            "19      1         FastText        55\n",
            "20      2         FastText        55\n",
            "21      0  Meta-Embeddings        49\n",
            "22      1  Meta-Embeddings        54\n",
            "23      2  Meta-Embeddings        57\n",
            "24      0             BERT        41\n",
            "25      1             BERT        44\n",
            "26      2             BERT        44\n",
            "27      0             ELMo        57\n",
            "28      1             ELMo        57\n",
            "29      2             ELMo        59\n",
            "Shapiro Test\n",
            "0.9533998966217041 0.20831646025180817\n",
            "Levene Test\n",
            "0.4156626506024097 0.9115840880503239\n"
          ],
          "name": "stdout"
        }
      ]
    },
    {
      "cell_type": "code",
      "metadata": {
        "id": "obCWHYTz8Wrv",
        "colab_type": "code",
        "outputId": "38836b15-b450-422d-b3ea-d0d0845d6bc0",
        "colab": {
          "base_uri": "https://localhost:8080/",
          "height": 1000
        }
      },
      "source": [
        "table41=sm.stats.anova_lm(model41)\n",
        "print(\"Anova Table for Emotion-identification 4 class\")\n",
        "print(table41)\n",
        "\n",
        "\n",
        "print(\"\\n\")\n",
        "print(\"---------------------EMOTION IDENTIFICATION 4 Class-------------------\")\n",
        "print(\"\\n\")\n",
        "m_comp=pairwise_tukeyhsd(endog=df41_melt['F1_SCORE'], groups=df41_melt['embeddings'], alpha=0.01)\n",
        "\n",
        "print(m_comp)\n"
      ],
      "execution_count": 0,
      "outputs": [
        {
          "output_type": "stream",
          "text": [
            "Anova Table for Emotion-identification 4 class\n",
            "              df      sum_sq    mean_sq          F    PR(>F)\n",
            "embeddings   9.0  836.700000  92.966667  12.677273  0.000002\n",
            "Residual    20.0  146.666667   7.333333        NaN       NaN\n",
            "\n",
            "\n",
            "---------------------EMOTION IDENTIFICATION 4 Class-------------------\n",
            "\n",
            "\n",
            "          Multiple Comparison of Means - Tukey HSD, FWER=0.01          \n",
            "=======================================================================\n",
            "     group1          group2     meandiff p-adj   lower    upper  reject\n",
            "-----------------------------------------------------------------------\n",
            "           BERT             BOW  -1.6667    0.9 -11.1826  7.8493  False\n",
            "           BERT            ELMo  14.6667  0.001   5.1507 24.1826   True\n",
            "           BERT        FastText  10.6667 0.0032   1.1507 20.1826   True\n",
            "           BERT           GloVe      6.0 0.2329   -3.516  15.516  False\n",
            "           BERT   LEXICON_BASED   2.6667    0.9  -6.8493 12.1826  False\n",
            "           BERT Meta-Embeddings  10.3333 0.0045   0.8174 19.8493   True\n",
            "           BERT    Skip-Thought      6.0 0.2329   -3.516  15.516  False\n",
            "           BERT          TF-IDF  -0.6667    0.9 -10.1826  8.8493  False\n",
            "           BERT        Word2vec   9.6667 0.0086   0.1507 19.1826   True\n",
            "            BOW            ELMo  16.3333  0.001   6.8174 25.8493   True\n",
            "            BOW        FastText  12.3333  0.001   2.8174 21.8493   True\n",
            "            BOW           GloVe   7.6667 0.0581  -1.8493 17.1826  False\n",
            "            BOW   LEXICON_BASED   4.3333  0.618  -5.1826 13.8493  False\n",
            "            BOW Meta-Embeddings     12.0  0.001    2.484  21.516   True\n",
            "            BOW    Skip-Thought   7.6667 0.0581  -1.8493 17.1826  False\n",
            "            BOW          TF-IDF      1.0    0.9   -8.516  10.516  False\n",
            "            BOW        Word2vec  11.3333 0.0017   1.8174 20.8493   True\n",
            "           ELMo        FastText     -4.0 0.6996  -13.516   5.516  False\n",
            "           ELMo           GloVe  -8.6667 0.0228 -18.1826  0.8493  False\n",
            "           ELMo   LEXICON_BASED    -12.0  0.001  -21.516  -2.484   True\n",
            "           ELMo Meta-Embeddings  -4.3333  0.618 -13.8493  5.1826  False\n",
            "           ELMo    Skip-Thought  -8.6667 0.0228 -18.1826  0.8493  False\n",
            "           ELMo          TF-IDF -15.3333  0.001 -24.8493 -5.8174   True\n",
            "           ELMo        Word2vec     -5.0  0.454  -14.516   4.516  False\n",
            "       FastText           GloVe  -4.6667 0.5365 -14.1826  4.8493  False\n",
            "       FastText   LEXICON_BASED     -8.0 0.0428  -17.516   1.516  False\n",
            "       FastText Meta-Embeddings  -0.3333    0.9  -9.8493  9.1826  False\n",
            "       FastText    Skip-Thought  -4.6667 0.5365 -14.1826  4.8493  False\n",
            "       FastText          TF-IDF -11.3333 0.0017 -20.8493 -1.8174   True\n",
            "       FastText        Word2vec     -1.0    0.9  -10.516   8.516  False\n",
            "          GloVe   LEXICON_BASED  -3.3333 0.8626 -12.8493  6.1826  False\n",
            "          GloVe Meta-Embeddings   4.3333  0.618  -5.1826 13.8493  False\n",
            "          GloVe    Skip-Thought      0.0    0.9   -9.516   9.516  False\n",
            "          GloVe          TF-IDF  -6.6667 0.1379 -16.1826  2.8493  False\n",
            "          GloVe        Word2vec   3.6667 0.7811  -5.8493 13.1826  False\n",
            "  LEXICON_BASED Meta-Embeddings   7.6667 0.0581  -1.8493 17.1826  False\n",
            "  LEXICON_BASED    Skip-Thought   3.3333 0.8626  -6.1826 12.8493  False\n",
            "  LEXICON_BASED          TF-IDF  -3.3333 0.8626 -12.8493  6.1826  False\n",
            "  LEXICON_BASED        Word2vec      7.0 0.1045   -2.516  16.516  False\n",
            "Meta-Embeddings    Skip-Thought  -4.3333  0.618 -13.8493  5.1826  False\n",
            "Meta-Embeddings          TF-IDF    -11.0 0.0023  -20.516  -1.484   True\n",
            "Meta-Embeddings        Word2vec  -0.6667    0.9 -10.1826  8.8493  False\n",
            "   Skip-Thought          TF-IDF  -6.6667 0.1379 -16.1826  2.8493  False\n",
            "   Skip-Thought        Word2vec   3.6667 0.7811  -5.8493 13.1826  False\n",
            "         TF-IDF        Word2vec  10.3333 0.0045   0.8174 19.8493   True\n",
            "-----------------------------------------------------------------------\n"
          ],
          "name": "stdout"
        }
      ]
    },
    {
      "cell_type": "markdown",
      "metadata": {
        "id": "lhU2TF8h8liE",
        "colab_type": "text"
      },
      "source": [
        "# Hate Speech results\n"
      ]
    },
    {
      "cell_type": "code",
      "metadata": {
        "id": "PB0M757a9G7L",
        "colab_type": "code",
        "outputId": "8c3f670b-05a4-4105-eb57-bf7b904087be",
        "colab": {
          "base_uri": "https://localhost:8080/",
          "height": 625
        }
      },
      "source": [
        "\n",
        "data51={'LEXICON_BASED':[56,58,58],'BOW':[50,51,49],'TF-IDF':[50,51,49],\n",
        "        'Skip-Thought':[58,61,56],'Word2vec':[54,57,58],'GloVe':[51,60,62],\n",
        "        'FastText':[54,59,62],'Meta-Embeddings':[53,60,63],'BERT':[53,55,54],'ELMo':[61,64,64]}\n",
        "df51=pd.DataFrame(data51)\n",
        "df51_melt=pd.melt(df51.reset_index(),id_vars=['index'],value_vars=['LEXICON_BASED','BOW','TF-IDF','Skip-Thought','Word2vec','GloVe','FastText','Meta-Embeddings','BERT','ELMo'])\n",
        "df51_melt.columns=['index','embeddings','F1_SCORE']\n",
        "\n",
        "print(df51_melt)\n",
        "\n",
        "model51=ols('F1_SCORE ~ embeddings',data=df51_melt).fit()\n",
        "\n",
        "\n",
        "import scipy.stats as stats\n",
        "w, pvalue = stats.shapiro(model51.resid)\n",
        "print('Shapiro Test')\n",
        "print(w, pvalue)\n",
        "\n",
        "print(\"Levene Test\")\n",
        "w,pvalue=stats.levene(df51['LEXICON_BASED'],df51['BOW'],df51['TF-IDF'],df51['Skip-Thought'],df51['Word2vec'],df51['GloVe'],df51['FastText'],df51['Meta-Embeddings'],df51['BERT'],df51['ELMo'])\n",
        "print(w,pvalue)\n",
        "\n",
        "\n"
      ],
      "execution_count": 0,
      "outputs": [
        {
          "output_type": "stream",
          "text": [
            "    index       embeddings  F1_SCORE\n",
            "0       0    LEXICON_BASED        56\n",
            "1       1    LEXICON_BASED        58\n",
            "2       2    LEXICON_BASED        58\n",
            "3       0              BOW        50\n",
            "4       1              BOW        51\n",
            "5       2              BOW        49\n",
            "6       0           TF-IDF        50\n",
            "7       1           TF-IDF        51\n",
            "8       2           TF-IDF        49\n",
            "9       0     Skip-Thought        58\n",
            "10      1     Skip-Thought        61\n",
            "11      2     Skip-Thought        56\n",
            "12      0         Word2vec        54\n",
            "13      1         Word2vec        57\n",
            "14      2         Word2vec        58\n",
            "15      0            GloVe        51\n",
            "16      1            GloVe        60\n",
            "17      2            GloVe        62\n",
            "18      0         FastText        54\n",
            "19      1         FastText        59\n",
            "20      2         FastText        62\n",
            "21      0  Meta-Embeddings        53\n",
            "22      1  Meta-Embeddings        60\n",
            "23      2  Meta-Embeddings        63\n",
            "24      0             BERT        53\n",
            "25      1             BERT        55\n",
            "26      2             BERT        54\n",
            "27      0             ELMo        61\n",
            "28      1             ELMo        64\n",
            "29      2             ELMo        64\n",
            "Shapiro Test\n",
            "0.9387072324752808 0.08395471423864365\n",
            "Levene Test\n",
            "0.8053740014524328 0.6165890524378339\n"
          ],
          "name": "stdout"
        }
      ]
    },
    {
      "cell_type": "code",
      "metadata": {
        "id": "D-rB33yP_ZUi",
        "colab_type": "code",
        "outputId": "ecc40dd2-f5ea-4013-aa4f-37d2f77d1baa",
        "colab": {
          "base_uri": "https://localhost:8080/",
          "height": 1000
        }
      },
      "source": [
        "table51=sm.stats.anova_lm(model51)\n",
        "print(\"Anova Table for HateSpeech results\")\n",
        "print(table51)\n",
        "\n",
        "print(\"\\n\")\n",
        "print(\"-----------------HATE SPEECH RESULTS---------------------\")\n",
        "print(\"\\n\")\n",
        "m_comp=pairwise_tukeyhsd(endog=df51_melt['F1_SCORE'], groups=df51_melt['embeddings'], alpha=0.01)\n",
        "\n",
        "print(m_comp)\n",
        "\n"
      ],
      "execution_count": 0,
      "outputs": [
        {
          "output_type": "stream",
          "text": [
            "Anova Table for HateSpeech results\n",
            "              df      sum_sq    mean_sq         F    PR(>F)\n",
            "embeddings   9.0  438.966667  48.774074  5.134113  0.001131\n",
            "Residual    20.0  190.000000   9.500000       NaN       NaN\n",
            "\n",
            "\n",
            "-----------------HATE SPEECH RESULTS---------------------\n",
            "\n",
            "\n",
            "          Multiple Comparison of Means - Tukey HSD, FWER=0.01          \n",
            "=======================================================================\n",
            "     group1          group2     meandiff p-adj   lower    upper  reject\n",
            "-----------------------------------------------------------------------\n",
            "           BERT             BOW     -4.0 0.8184 -14.8309  6.8309  False\n",
            "           BERT            ELMo      9.0 0.0466  -1.8309 19.8309  False\n",
            "           BERT        FastText   4.3333 0.7467  -6.4976 15.1642  False\n",
            "           BERT           GloVe   3.6667   0.89  -7.1642 14.4976  False\n",
            "           BERT   LEXICON_BASED   3.3333    0.9  -7.4976 14.1642  False\n",
            "           BERT Meta-Embeddings   4.6667 0.6751  -6.1642 15.4976  False\n",
            "           BERT    Skip-Thought   4.3333 0.7467  -6.4976 15.1642  False\n",
            "           BERT          TF-IDF     -4.0 0.8184 -14.8309  6.8309  False\n",
            "           BERT        Word2vec   2.3333    0.9  -8.4976 13.1642  False\n",
            "            BOW            ELMo     13.0 0.0015   2.1691 23.8309   True\n",
            "            BOW        FastText   8.3333 0.0792  -2.4976 19.1642  False\n",
            "            BOW           GloVe   7.6667 0.1302  -3.1642 18.4976  False\n",
            "            BOW   LEXICON_BASED   7.3333 0.1657  -3.4976 18.1642  False\n",
            "            BOW Meta-Embeddings   8.6667 0.0609  -2.1642 19.4976  False\n",
            "            BOW    Skip-Thought   8.3333 0.0792  -2.4976 19.1642  False\n",
            "            BOW          TF-IDF      0.0    0.9 -10.8309 10.8309  False\n",
            "            BOW        Word2vec   6.3333  0.317  -4.4976 17.1642  False\n",
            "           ELMo        FastText  -4.6667 0.6751 -15.4976  6.1642  False\n",
            "           ELMo           GloVe  -5.3333 0.5318 -16.1642  5.4976  False\n",
            "           ELMo   LEXICON_BASED  -5.6667 0.4594 -16.4976  5.1642  False\n",
            "           ELMo Meta-Embeddings  -4.3333 0.7467 -15.1642  6.4976  False\n",
            "           ELMo    Skip-Thought  -4.6667 0.6751 -15.4976  6.1642  False\n",
            "           ELMo          TF-IDF    -13.0 0.0015 -23.8309 -2.1691   True\n",
            "           ELMo        Word2vec  -6.6667 0.2584 -17.4976  4.1642  False\n",
            "       FastText           GloVe  -0.6667    0.9 -11.4976 10.1642  False\n",
            "       FastText   LEXICON_BASED     -1.0    0.9 -11.8309  9.8309  False\n",
            "       FastText Meta-Embeddings   0.3333    0.9 -10.4976 11.1642  False\n",
            "       FastText    Skip-Thought      0.0    0.9 -10.8309 10.8309  False\n",
            "       FastText          TF-IDF  -8.3333 0.0792 -19.1642  2.4976  False\n",
            "       FastText        Word2vec     -2.0    0.9 -12.8309  8.8309  False\n",
            "          GloVe   LEXICON_BASED  -0.3333    0.9 -11.1642 10.4976  False\n",
            "          GloVe Meta-Embeddings      1.0    0.9  -9.8309 11.8309  False\n",
            "          GloVe    Skip-Thought   0.6667    0.9 -10.1642 11.4976  False\n",
            "          GloVe          TF-IDF  -7.6667 0.1302 -18.4976  3.1642  False\n",
            "          GloVe        Word2vec  -1.3333    0.9 -12.1642  9.4976  False\n",
            "  LEXICON_BASED Meta-Embeddings   1.3333    0.9  -9.4976 12.1642  False\n",
            "  LEXICON_BASED    Skip-Thought      1.0    0.9  -9.8309 11.8309  False\n",
            "  LEXICON_BASED          TF-IDF  -7.3333 0.1657 -18.1642  3.4976  False\n",
            "  LEXICON_BASED        Word2vec     -1.0    0.9 -11.8309  9.8309  False\n",
            "Meta-Embeddings    Skip-Thought  -0.3333    0.9 -11.1642 10.4976  False\n",
            "Meta-Embeddings          TF-IDF  -8.6667 0.0609 -19.4976  2.1642  False\n",
            "Meta-Embeddings        Word2vec  -2.3333    0.9 -13.1642  8.4976  False\n",
            "   Skip-Thought          TF-IDF  -8.3333 0.0792 -19.1642  2.4976  False\n",
            "   Skip-Thought        Word2vec     -2.0    0.9 -12.8309  8.8309  False\n",
            "         TF-IDF        Word2vec   6.3333  0.317  -4.4976 17.1642  False\n",
            "-----------------------------------------------------------------------\n"
          ],
          "name": "stdout"
        }
      ]
    },
    {
      "cell_type": "markdown",
      "metadata": {
        "id": "HX0MpQ2e93vz",
        "colab_type": "text"
      },
      "source": [
        "# Sarcasm results"
      ]
    },
    {
      "cell_type": "code",
      "metadata": {
        "id": "QkgrXOR098Dv",
        "colab_type": "code",
        "outputId": "0075ce1d-8e77-4a34-c80a-db3707651db7",
        "colab": {
          "base_uri": "https://localhost:8080/",
          "height": 573
        }
      },
      "source": [
        "\n",
        "data61={'BOW':[48,49,47],'TF-IDF':[49,51,50],'Skip-Thought':[53,54,54],\n",
        "        'Word2vec':[44,52,52],'GloVe':[41,53,52],'FastText':[42,52,53],'Meta-Embeddings':[42,50,53],\n",
        "        'BERT':[50,52,53],'ELMo':[58,60,58]}\n",
        "df61=pd.DataFrame(data61)\n",
        "df61_melt=pd.melt(df61.reset_index(),id_vars=['index'],value_vars=['BOW','TF-IDF','Skip-Thought','Word2vec','GloVe','FastText','Meta-Embeddings','BERT','ELMo'])\n",
        "df61_melt.columns=['index','embeddings','F1_SCORE']\n",
        "\n",
        "print(df61_melt)\n",
        "\n",
        "model61=ols('F1_SCORE ~ embeddings',data=df61_melt).fit()\n",
        "\n",
        "\n",
        "import scipy.stats as stats\n",
        "w, pvalue = stats.shapiro(model61.resid)\n",
        "print('Shapiro Test')\n",
        "print(w, pvalue)\n",
        "\n",
        "\n",
        "print(\"Levene Test\")\n",
        "w,pvalue=stats.levene(df61['BOW'],df61['TF-IDF'],df61['Skip-Thought'],df61['Word2vec'],df61['GloVe'],df61['FastText'],df61['Meta-Embeddings'],df61['BERT'],df61['ELMo'])\n",
        "print(w,pvalue)\n",
        "\n",
        "\n"
      ],
      "execution_count": 0,
      "outputs": [
        {
          "output_type": "stream",
          "text": [
            "    index       embeddings  F1_SCORE\n",
            "0       0              BOW        48\n",
            "1       1              BOW        49\n",
            "2       2              BOW        47\n",
            "3       0           TF-IDF        49\n",
            "4       1           TF-IDF        51\n",
            "5       2           TF-IDF        50\n",
            "6       0     Skip-Thought        53\n",
            "7       1     Skip-Thought        54\n",
            "8       2     Skip-Thought        54\n",
            "9       0         Word2vec        44\n",
            "10      1         Word2vec        52\n",
            "11      2         Word2vec        52\n",
            "12      0            GloVe        41\n",
            "13      1            GloVe        53\n",
            "14      2            GloVe        52\n",
            "15      0         FastText        42\n",
            "16      1         FastText        52\n",
            "17      2         FastText        53\n",
            "18      0  Meta-Embeddings        42\n",
            "19      1  Meta-Embeddings        50\n",
            "20      2  Meta-Embeddings        53\n",
            "21      0             BERT        50\n",
            "22      1             BERT        52\n",
            "23      2             BERT        53\n",
            "24      0             ELMo        58\n",
            "25      1             ELMo        60\n",
            "26      2             ELMo        58\n",
            "Shapiro Test\n",
            "0.8977638483047485 0.01189352385699749\n",
            "Levene Test\n",
            "0.5938461538461538 0.7706378046880891\n"
          ],
          "name": "stdout"
        }
      ]
    },
    {
      "cell_type": "code",
      "metadata": {
        "id": "EhE38b7kANez",
        "colab_type": "code",
        "outputId": "7272ffe1-6db0-40a2-8529-dcc9669388ff",
        "colab": {
          "base_uri": "https://localhost:8080/",
          "height": 86
        }
      },
      "source": [
        "table61=sm.stats.anova_lm(model61)\n",
        "print(\"Anova Table for Sarcasm results\")\n",
        "print(table61)"
      ],
      "execution_count": 0,
      "outputs": [
        {
          "output_type": "stream",
          "text": [
            "Anova Table for Sarcasm results\n",
            "              df      sum_sq    mean_sq         F    PR(>F)\n",
            "embeddings   8.0  286.074074  35.759259  2.282506  0.069593\n",
            "Residual    18.0  282.000000  15.666667       NaN       NaN\n"
          ],
          "name": "stdout"
        }
      ]
    },
    {
      "cell_type": "code",
      "metadata": {
        "id": "BRQGRJuYAYRu",
        "colab_type": "code",
        "outputId": "b9766785-12ea-4d42-ec2f-5180d89960fe",
        "colab": {
          "base_uri": "https://localhost:8080/",
          "height": 816
        }
      },
      "source": [
        "print(\"\\n\")\n",
        "print(\"-----------------SARCASM RESULTS-----------------\")\n",
        "print(\"\\n\")\n",
        "\n",
        "m_comp=pairwise_tukeyhsd(endog=df61_melt['F1_SCORE'], groups=df61_melt['embeddings'], alpha=0.01)\n",
        "\n",
        "print(m_comp)"
      ],
      "execution_count": 0,
      "outputs": [
        {
          "output_type": "stream",
          "text": [
            "\n",
            "\n",
            "-----------------SARCASM RESULTS-----------------\n",
            "\n",
            "\n",
            "          Multiple Comparison of Means - Tukey HSD, FWER=0.01          \n",
            "=======================================================================\n",
            "     group1          group2     meandiff p-adj   lower    upper  reject\n",
            "-----------------------------------------------------------------------\n",
            "           BERT             BOW  -3.6667    0.9 -17.5626 10.2292  False\n",
            "           BERT            ELMo      7.0 0.4661  -6.8959 20.8959  False\n",
            "           BERT        FastText  -2.6667    0.9 -16.5626 11.2292  False\n",
            "           BERT           GloVe     -3.0    0.9 -16.8959 10.8959  False\n",
            "           BERT Meta-Embeddings  -3.3333    0.9 -17.2292 10.5626  False\n",
            "           BERT    Skip-Thought      2.0    0.9 -11.8959 15.8959  False\n",
            "           BERT          TF-IDF  -1.6667    0.9 -15.5626 12.2292  False\n",
            "           BERT        Word2vec  -2.3333    0.9 -16.2292 11.5626  False\n",
            "            BOW            ELMo  10.6667 0.0741  -3.2292 24.5626  False\n",
            "            BOW        FastText      1.0    0.9 -12.8959 14.8959  False\n",
            "            BOW           GloVe   0.6667    0.9 -13.2292 14.5626  False\n",
            "            BOW Meta-Embeddings   0.3333    0.9 -13.5626 14.2292  False\n",
            "            BOW    Skip-Thought   5.6667 0.6872  -8.2292 19.5626  False\n",
            "            BOW          TF-IDF      2.0    0.9 -11.8959 15.8959  False\n",
            "            BOW        Word2vec   1.3333    0.9 -12.5626 15.2292  False\n",
            "           ELMo        FastText  -9.6667 0.1305 -23.5626  4.2292  False\n",
            "           ELMo           GloVe    -10.0 0.1087 -23.8959  3.8959  False\n",
            "           ELMo Meta-Embeddings -10.3333 0.0897 -24.2292  3.5626  False\n",
            "           ELMo    Skip-Thought     -5.0 0.7975 -18.8959  8.8959  False\n",
            "           ELMo          TF-IDF  -8.6667 0.2215 -22.5626  5.2292  False\n",
            "           ELMo        Word2vec  -9.3333 0.1568 -23.2292  4.5626  False\n",
            "       FastText           GloVe  -0.3333    0.9 -14.2292 13.5626  False\n",
            "       FastText Meta-Embeddings  -0.6667    0.9 -14.5626 13.2292  False\n",
            "       FastText    Skip-Thought   4.6667 0.8527  -9.2292 18.5626  False\n",
            "       FastText          TF-IDF      1.0    0.9 -12.8959 14.8959  False\n",
            "       FastText        Word2vec   0.3333    0.9 -13.5626 14.2292  False\n",
            "          GloVe Meta-Embeddings  -0.3333    0.9 -14.2292 13.5626  False\n",
            "          GloVe    Skip-Thought      5.0 0.7975  -8.8959 18.8959  False\n",
            "          GloVe          TF-IDF   1.3333    0.9 -12.5626 15.2292  False\n",
            "          GloVe        Word2vec   0.6667    0.9 -13.2292 14.5626  False\n",
            "Meta-Embeddings    Skip-Thought   5.3333 0.7424  -8.5626 19.2292  False\n",
            "Meta-Embeddings          TF-IDF   1.6667    0.9 -12.2292 15.5626  False\n",
            "Meta-Embeddings        Word2vec      1.0    0.9 -12.8959 14.8959  False\n",
            "   Skip-Thought          TF-IDF  -3.6667    0.9 -17.5626 10.2292  False\n",
            "   Skip-Thought        Word2vec  -4.3333    0.9 -18.2292  9.5626  False\n",
            "         TF-IDF        Word2vec  -0.6667    0.9 -14.5626 13.2292  False\n",
            "-----------------------------------------------------------------------\n"
          ],
          "name": "stdout"
        }
      ]
    }
  ]
}